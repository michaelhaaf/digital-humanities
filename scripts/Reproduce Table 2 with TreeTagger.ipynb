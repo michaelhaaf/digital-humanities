{
 "cells": [
  {
   "cell_type": "code",
   "execution_count": 39,
   "metadata": {
    "scrolled": true
   },
   "outputs": [
    {
     "name": "stdout",
     "output_type": "stream",
     "text": [
      "[\"C'\\tPRO:DEM\\tce\",\n",
      " 'est\\tVER:pres\\têtre',\n",
      " 'une\\tDET:ART\\tun',\n",
      " 'très\\tADV\\ttrès',\n",
      " 'petite\\tADJ\\tpetit',\n",
      " 'phrase\\tNOM\\tphrase',\n",
      " 'à\\tPRP\\tà',\n",
      " 'taguer\\tNOM\\ttaguer']\n"
     ]
    }
   ],
   "source": [
    "# Sample code adapted from treetaggerwrapper documentation: https://treetaggerwrapper.readthedocs.io/en/latest/\n",
    "import pprint   # For proper print of sequences.\n",
    "import treetaggerwrapper\n",
    "#1) build a TreeTagger wrapper:\n",
    "tagger = treetaggerwrapper.TreeTagger(TAGLANG='fr')\n",
    " #2) tag your text.\n",
    "tags = tagger.tag_text(\"C'est une très petite phrase à taguer\")\n",
    " #3) use the tags list... (list of string output from TreeTagger).\n",
    "pprint.pprint(tags)\n"
   ]
  },
  {
   "cell_type": "code",
   "execution_count": 3,
   "metadata": {},
   "outputs": [
    {
     "name": "stdout",
     "output_type": "stream",
     "text": [
      "['CLAUDINE\\tNOM\\tCLAUDINE',\n",
      " 'A\\tPRP\\tà',\n",
      " \"L'\\tDET:ART\\tle\",\n",
      " 'ÉCOLE\\tNOM\\técole',\n",
      " 'Je\\tPRO:PER\\tje',\n",
      " \"m'\\tPRO:PER\\tme\",\n",
      " 'appelle\\tVER:pres\\tappeler',\n",
      " 'Claudine\\tNAM\\tClaudine',\n",
      " ',\\tPUN\\t,',\n",
      " \"j'\\tPRO:PER\\tje\"]\n"
     ]
    }
   ],
   "source": [
    "# try on a file! Claudine for now.\n",
    "tags = tagger.tag_file(\"../texts/txt/1902-Colette-Claudine a l’École.txt\")\n",
    "pprint.pprint(tags[0:10])"
   ]
  },
  {
   "cell_type": "code",
   "execution_count": 25,
   "metadata": {
    "scrolled": true
   },
   "outputs": [
    {
     "name": "stdout",
     "output_type": "stream",
     "text": [
      "64734\n",
      "64875\n"
     ]
    }
   ],
   "source": [
    "# Convert to list of tuples for better handling\n",
    "tags2 = treetaggerwrapper.make_tags(tags, exclude_nottags=True)\n",
    "tags_with_unks = treetaggerwrapper.make_tags(tags)\n",
    "\n",
    "print(len(tags2))\n",
    "print(len(tags_with_unks)) #~150 unks here, need to investigate what they are\n"
   ]
  },
  {
   "cell_type": "code",
   "execution_count": 29,
   "metadata": {},
   "outputs": [],
   "source": [
    "sorted_tags = sorted(tags2, key=lambda tag: tag.lemma)"
   ]
  },
  {
   "cell_type": "code",
   "execution_count": 44,
   "metadata": {
    "scrolled": true
   },
   "outputs": [
    {
     "name": "stdout",
     "output_type": "stream",
     "text": [
      "[('abeille', 1), ('animal', 7), ('araignée', 2), ('chat', 8), ('cheval', 5), ('chien', 2), ('chèvre', 1), ('cochon', 2), ('lapin', 2), ('lièvre', 1), ('loup', 4), ('moineau', 1), ('mouche', 4), ('mouton', 2), ('oie', 2), ('oiseau', 6), ('ours', 2), ('papillon', 4), ('poule', 1), ('serpent', 2), ('singe', 2), ('souris', 1), ('vache', 1), ('veau', 1), ('âne', 1)]\n"
     ]
    }
   ],
   "source": [
    "# Now, count occurrences of each entry in bestiary in list of lemmas\n",
    "from itertools import groupby\n",
    "\n",
    "# All of the rows of Table 2\n",
    "bestiaire = [\"abeille\", \"aigle\", \"âne\", \"animal\", \"araignée\", \"boeuf\", \n",
    "             \"canard\", \"cerf\", \"chat\", \"cheval\", \"chèvre\", \"chien\", \n",
    "             \"chouette\", \"cochon\", \"coq\", \"cygne\", \"dragon\", \"écureuil\",\n",
    "             \"éléphant\", \"fourmi\", \"gibier\", \"insecte\", \"lapin\", \"lièvre\",\n",
    "             \"loup\", \"moineau\", \"mouche\", \"mouton\", \"oie\", \"oiseau\", \"ours\", \n",
    "             \"papillon\", \"perroquet\", \"pigeon\", \"poisson\", \"poule\", \"poulet\",\n",
    "             \"rat\", \"renard\", \"rossignol\", \"serpent\", \"singe\", \"souris\", \n",
    "             \"tigre\", \"truite\", \"vache\", \"veau\"]\n",
    "\n",
    "counts = [(i, len(list(c))) for i, c  in groupby(sorted_tags, key=lambda tag: tag.lemma)]\n",
    "bestiaire_counts = [(i, c) for i, c in counts if i in bestiaire]\n",
    "print(bestiaire_counts)"
   ]
  },
  {
   "cell_type": "code",
   "execution_count": 46,
   "metadata": {},
   "outputs": [
    {
     "name": "stdout",
     "output_type": "stream",
     "text": [
      "['abeilles\\tNOM\\tabeille',\n",
      " 'moineux\\tNOM\\tmoineux',\n",
      " 'chevaux\\tNOM\\tcheval',\n",
      " 'travaux\\tNOM\\ttravail',\n",
      " 'animale\\tADJ\\tanimal',\n",
      " 'chatte\\tNOM\\tchat|chatte',\n",
      " 'chevelles\\tADJ\\tchevelles',\n",
      " 'chattes\\tNOM\\tchat|chatte']\n"
     ]
    }
   ],
   "source": [
    "# test the tagger's lemmatization for some sample alternative cases for animal spellings\n",
    "animal_tags = tagger.tag_text(\"abeilles moineux chevaux travaux animale chatte chattes\")\n",
    " #3) use the tags list... (list of string output from TreeTagger).\n",
    "pprint.pprint(animal_tags)\n",
    "\n",
    "# interesting examples: moineux (sparrows) is not caught, chatte/chattes has an either/or that needs to be handled."
   ]
  },
  {
   "cell_type": "code",
   "execution_count": 72,
   "metadata": {},
   "outputs": [
    {
     "name": "stdout",
     "output_type": "stream",
     "text": [
      "# of files: 6\n",
      " filenames:['../texts/txt/1883-Zola-AU BONHEUR DES DAMES.txt', '../texts/txt/1874-Zola-LA CONQUETE DE PLASSANS.txt', \"../texts/txt/1891-Zola-L'argent.txt\", '../texts/txt/1892-Zola-LE DEBACLE.txt', '../texts/txt/1890-Zola-LA BETE HUMANINE.txt', '../texts/txt/1880-Zola-NANA.txt']\n"
     ]
    }
   ],
   "source": [
    "# lets actually make the table now\n",
    "# One author that we have all of the same texts in the corpus as in Brunet's paper is Zola.\n",
    "# We'll try to make the Zola column\n",
    "\n",
    "import glob\n",
    "zola_files = [f for f in glob.glob(\"../texts/txt/*Zola*.txt\")]\n",
    "print('# of files: ' + str(len(zola_files)) + '\\n filenames:' +  str(zola_files))\n",
    "# we're missing L'assommoir"
   ]
  },
  {
   "cell_type": "code",
   "execution_count": null,
   "metadata": {},
   "outputs": [],
   "source": [
    "# this step takes ~30 seconds\n",
    "text_tags = [treetaggerwrapper.make_tags(tagger.tag_file(f), exclude_nottags=True) for f in zola_files]\n",
    "\n",
    "combined_tags = [item for sublist in text_tags for item in sublist]\n",
    "sorted_tags = sorted(combined_tags, key=lambda tag: tag.lemma)\n",
    "counts = [(i, len(list(c))) for i, c  in groupby(sorted_tags, key=lambda tag: tag.lemma)]\n",
    "bestiaire_counts = [(i, c) for i, c in counts if i in bestiaire]\n",
    "total = sum([c for i, c in bestiaire_counts])\n",
    "bestiaire_counts.append(('total', total))\n",
    "print(bestiaire_counts)"
   ]
  }
 ],
 "metadata": {
  "kernelspec": {
   "display_name": "Python 3",
   "language": "python",
   "name": "python3"
  },
  "language_info": {
   "codemirror_mode": {
    "name": "ipython",
    "version": 3
   },
   "file_extension": ".py",
   "mimetype": "text/x-python",
   "name": "python",
   "nbconvert_exporter": "python",
   "pygments_lexer": "ipython3",
   "version": "3.6.6"
  }
 },
 "nbformat": 4,
 "nbformat_minor": 2
}
