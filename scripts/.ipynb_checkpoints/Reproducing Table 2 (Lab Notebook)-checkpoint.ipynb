{
 "cells": [
  {
   "cell_type": "code",
   "execution_count": 6,
   "metadata": {},
   "outputs": [],
   "source": [
    "# NLTK library: http://www.nltk.org/api/nltk.html\n",
    "# note: nltk was throwing a runtime error on my machine until I ran the following commands in a local terminal: \n",
    "# import nltk\n",
    "# nltk.download('punkt')\n",
    "\n",
    "from nltk.tokenize import word_tokenize\n",
    "from nltk.probability import FreqDist\n",
    "import pandas as pd"
   ]
  },
  {
   "cell_type": "code",
   "execution_count": 7,
   "metadata": {
    "scrolled": true
   },
   "outputs": [
    {
     "data": {
      "text/plain": [
       "FreqDist({'exemple': 2, 'de': 2, \"c'est\": 1, 'un': 1, 'phrase': 1, ',': 1, 'le': 1, 'mot': 1, 'vais': 1, 'apparaître': 1, ...})"
      ]
     },
     "execution_count": 7,
     "metadata": {},
     "output_type": "execute_result"
    }
   ],
   "source": [
    "# Simple example: take a string, tokenize into a list of words, return a map of word -> frequency. \n",
    "sample = \"C'est un exemple de phrase, le mot exemple vais apparaître deux fois dans la distribution de fréquence\"\n",
    "fdist = FreqDist()\n",
    "for word in word_tokenize(sample):\n",
    "    fdist[word.lower()] += 1\n",
    "fdist"
   ]
  },
  {
   "cell_type": "code",
   "execution_count": 8,
   "metadata": {
    "scrolled": true
   },
   "outputs": [
    {
     "name": "stdout",
     "output_type": "stream",
     "text": [
      "0\n",
      "0\n",
      "0\n",
      "0\n"
     ]
    }
   ],
   "source": [
    "# Simple test: can we get the same number of results as Brunet?\n",
    "with open(\"../texts/txt/1902-Colette-Claudine a l’École.txt\", \"r\") as myfile:\n",
    "    data=myfile.read().replace(\"\\n\", \"\")\n",
    "fdist_claudine = FreqDist()\n",
    "for word in word_tokenize(data):\n",
    "    fdist_claudine[word.lower()] += 1\n",
    "print(fdist_claudine[\"oiseau\"]) # only one occurence; of course, there is morphology to consider\n",
    "print(fdist_claudine[\"d'oiseau\"]) \n",
    "print(fdist_claudine[\"oiseaux\"]) # only 6/11 have been found (see pg. 306 of Brunet)\n",
    "print(fdist_claudine[\"d'oiseaux\"])"
   ]
  },
  {
   "cell_type": "code",
   "execution_count": 15,
   "metadata": {},
   "outputs": [
    {
     "data": {
      "text/plain": [
       "[{245.6033387395212, 'animal'},\n",
       " {245.5992670998837, 'chat'},\n",
       " {245.60537453402765, 'cheval'},\n",
       " {245.60944607241802, 'chèvre'},\n",
       " {245.60741031165978, 'chien'},\n",
       " {245.60741031165978, 'cochon'},\n",
       " {245.60944607241802, 'lapin'},\n",
       " {245.60944607241802, 'lièvre'},\n",
       " {245.60537453402765, 'loup'},\n",
       " {245.60944607241802, 'mouche'},\n",
       " {245.60944607241802, 'mouton'},\n",
       " {245.60741031165978, 'oie'},\n",
       " {245.60944607241802, 'oiseau'},\n",
       " {245.60944607241802, 'ours'},\n",
       " {245.60741031165978, 'poisson'},\n",
       " {245.60944607241802, 'poule'},\n",
       " {245.60741031165978, 'singe'},\n",
       " {245.60741031165978, 'souris'},\n",
       " {245.60944607241802, 'veau'}]"
      ]
     },
     "execution_count": 15,
     "metadata": {},
     "output_type": "execute_result"
    }
   ],
   "source": [
    "# Lets try to see if we can recapitulate the \"z\" score calculated in \n",
    "# table 1-1 for Claudine d'Ecole\n",
    "bestiaire = [\"abeille\", \"âne\", \"animal\", \"araignée\", \"boeuf\", \"chat\", \"cheval\", \"chèvre\", \"chien\", \"chouette\", \"cochon\", \"dragon\", \"fourmi\", \"gibier\", \"insecte\", \"lapin\", \"lièvre\", \"loup\", \"mouche\", \"mouton\", \"oie\", \"oiseau\", \"ours\", \"papillon\", \"poisson\", \"poule\", \"poulet\", \"rat\", \"renard\", \"rossignol\", \"serpent\", \"singe\", \"souris\", \"tigre\", \"vache\", \"veau\"]\n",
    "\n",
    "z_list = []\n",
    "for animal in bestiaire:\n",
    "    f = fdist_claudine[animal]\n",
    "    p = f/fdist_claudine.N()\n",
    "    o = f\n",
    "    q = 1 - p\n",
    "    if(p != 0 and f != 0 and q != 0):\n",
    "        z_list.append({(o - (f*p))/(f*p*q)**0.5, animal})\n",
    "\n",
    "z_list"
   ]
  }
 ],
 "metadata": {
  "kernelspec": {
   "display_name": "Python 3",
   "language": "python",
   "name": "python3"
  },
  "language_info": {
   "codemirror_mode": {
    "name": "ipython",
    "version": 3
   },
   "file_extension": ".py",
   "mimetype": "text/x-python",
   "name": "python",
   "nbconvert_exporter": "python",
   "pygments_lexer": "ipython3",
   "version": "3.6.6"
  }
 },
 "nbformat": 4,
 "nbformat_minor": 2
}
