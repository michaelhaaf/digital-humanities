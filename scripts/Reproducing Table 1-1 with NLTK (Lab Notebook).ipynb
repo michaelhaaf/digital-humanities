{
 "cells": [
  {
   "cell_type": "code",
   "execution_count": 10,
   "metadata": {},
   "outputs": [],
   "source": [
    "# NLTK library: http://www.nltk.org/api/nltk.html\n",
    "# note: nltk was throwing a runtime error on my machine until I ran the following commands in a local terminal: \n",
    "# import nltk\n",
    "# nltk.download('punkt')\n",
    "\n",
    "from nltk.tokenize import word_tokenize\n",
    "from nltk.probability import FreqDist\n",
    "import pandas as pd"
   ]
  },
  {
   "cell_type": "code",
   "execution_count": 12,
   "metadata": {
    "scrolled": true
   },
   "outputs": [
    {
     "data": {
      "text/plain": [
       "FreqDist({'exemple': 2, 'de': 2, 'le': 2, \"c'est\": 1, 'un': 1, 'phrase': 1, ',': 1, 'mot': 1, 'vais': 1, 'apparaître': 1, ...})"
      ]
     },
     "execution_count": 12,
     "metadata": {},
     "output_type": "execute_result"
    }
   ],
   "source": [
    "# Simple example: take a string, tokenize into a list of words, return a map of word -> frequency. \n",
    "sample = \"C'est un exemple de phrase, le mot exemple vais apparaître deux fois dans la distribution de fréquence\"\n",
    "fdist = FreqDist()\n",
    "for word in word_tokenize(sample):\n",
    "    fdist[word.lower()] += 1\n",
    "fdist"
   ]
  },
  {
   "cell_type": "code",
   "execution_count": 26,
   "metadata": {
    "scrolled": true
   },
   "outputs": [
    {
     "name": "stdout",
     "output_type": "stream",
     "text": [
      "1\n",
      "3\n",
      "2\n",
      "0\n"
     ]
    }
   ],
   "source": [
    "# Simple test: can we get the same number of results as Brunet?\n",
    "with open(\"../texts/txt/1902-Colette-Claudine a l’École.txt\", \"r\") as myfile:\n",
    "    data=myfile.read().replace(\"\\n\", \"\")\n",
    "fdist = FreqDist()\n",
    "for word in word_tokenize(data):\n",
    "    fdist[word.lower()] += 1\n",
    "print(fdist[\"oiseau\"]) # only one occurence; of course, there is morphology to consider\n",
    "print(fdist[\"d'oiseau\"]) \n",
    "print(fdist[\"oiseaux\"]) # only 6/11 have been found (see pg. 306 of Brunet)\n",
    "print(fdist[\"d'oiseaux\"])"
   ]
  }
 ],
 "metadata": {
  "kernelspec": {
   "display_name": "Python 3",
   "language": "python",
   "name": "python3"
  },
  "language_info": {
   "codemirror_mode": {
    "name": "ipython",
    "version": 3
   },
   "file_extension": ".py",
   "mimetype": "text/x-python",
   "name": "python",
   "nbconvert_exporter": "python",
   "pygments_lexer": "ipython3",
   "version": "3.6.6"
  }
 },
 "nbformat": 4,
 "nbformat_minor": 2
}
