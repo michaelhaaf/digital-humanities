{
 "cells": [
  {
   "cell_type": "code",
   "execution_count": 9,
   "metadata": {},
   "outputs": [
    {
     "name": "stdout",
     "output_type": "stream",
     "text": [
      "[\"c'\\tPRO:DEM\\tce\",\n",
      " 'est\\tVER:pres\\têtre',\n",
      " 'une\\tDET:ART\\tun',\n",
      " 'très\\tADV\\ttrès',\n",
      " 'petite\\tADJ\\tpetit',\n",
      " 'phrase\\tNOM\\tphrase',\n",
      " 'à\\tPRP\\tà',\n",
      " 'taguer\\tNOM\\ttaguer']\n"
     ]
    }
   ],
   "source": [
    "# Sample code adapted from treetaggerwrapper documentation: https://treetaggerwrapper.readthedocs.io/en/latest/\n",
    "import pprint   # For proper print of sequences.\n",
    "import treetaggerwrapper\n",
    "#1) build a TreeTagger wrapper:\n",
    "tagger = treetaggerwrapper.TreeTagger(TAGLANG='fr')\n",
    " #2) tag your text.\n",
    "tags = tagger.tag_text(\"c'est une très petite phrase à taguer\")\n",
    " #3) use the tags list... (list of string output from TreeTagger).\n",
    "pprint.pprint(tags)\n"
   ]
  },
  {
   "cell_type": "code",
   "execution_count": 12,
   "metadata": {},
   "outputs": [
    {
     "name": "stdout",
     "output_type": "stream",
     "text": [
      "['CLAUDINE\\tNOM\\tCLAUDINE',\n",
      " 'A\\tPRP\\tà',\n",
      " \"L'\\tDET:ART\\tle\",\n",
      " 'ÉCOLE\\tNOM\\técole',\n",
      " 'Je\\tPRO:PER\\tje',\n",
      " \"m'\\tPRO:PER\\tme\",\n",
      " 'appelle\\tVER:pres\\tappeler',\n",
      " 'Claudine\\tNAM\\tClaudine',\n",
      " ',\\tPUN\\t,',\n",
      " \"j'\\tPRO:PER\\tje\"]\n"
     ]
    }
   ],
   "source": [
    "# try on a file!\n",
    "tags = tagger.tag_file(\"../texts/txt/1902-Colette-Claudine a l’École.txt\")\n",
    "pprint.pprint(tags[0:10])"
   ]
  },
  {
   "cell_type": "code",
   "execution_count": null,
   "metadata": {},
   "outputs": [],
   "source": []
  }
 ],
 "metadata": {
  "kernelspec": {
   "display_name": "Python 3",
   "language": "python",
   "name": "python3"
  },
  "language_info": {
   "codemirror_mode": {
    "name": "ipython",
    "version": 3
   },
   "file_extension": ".py",
   "mimetype": "text/x-python",
   "name": "python",
   "nbconvert_exporter": "python",
   "pygments_lexer": "ipython3",
   "version": "3.6.6"
  }
 },
 "nbformat": 4,
 "nbformat_minor": 2
}
