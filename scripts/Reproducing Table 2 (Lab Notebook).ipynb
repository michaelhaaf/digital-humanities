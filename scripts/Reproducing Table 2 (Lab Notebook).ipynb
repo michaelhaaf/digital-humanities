{
 "cells": [
  {
   "cell_type": "code",
   "execution_count": 5,
   "metadata": {},
   "outputs": [
    {
     "ename": "ModuleNotFoundError",
     "evalue": "No module named 'nltk.tokenize.moses'",
     "output_type": "error",
     "traceback": [
      "\u001b[0;31m---------------------------------------------------------------------------\u001b[0m",
      "\u001b[0;31mModuleNotFoundError\u001b[0m                       Traceback (most recent call last)",
      "\u001b[0;32m<ipython-input-5-07e777d5f70b>\u001b[0m in \u001b[0;36m<module>\u001b[0;34m()\u001b[0m\n\u001b[1;32m      5\u001b[0m \u001b[0;34m\u001b[0m\u001b[0m\n\u001b[1;32m      6\u001b[0m \u001b[0;32mfrom\u001b[0m \u001b[0mnltk\u001b[0m\u001b[0;34m.\u001b[0m\u001b[0mtokenize\u001b[0m \u001b[0;32mimport\u001b[0m \u001b[0mword_tokenize\u001b[0m\u001b[0;34m\u001b[0m\u001b[0m\n\u001b[0;32m----> 7\u001b[0;31m \u001b[0;32mfrom\u001b[0m \u001b[0mnltk\u001b[0m\u001b[0;34m.\u001b[0m\u001b[0mtokenize\u001b[0m\u001b[0;34m.\u001b[0m\u001b[0mmoses\u001b[0m \u001b[0;32mimport\u001b[0m \u001b[0mMosesTokenizer\u001b[0m\u001b[0;34m\u001b[0m\u001b[0m\n\u001b[0m\u001b[1;32m      8\u001b[0m \u001b[0;32mfrom\u001b[0m \u001b[0mnltk\u001b[0m\u001b[0;34m.\u001b[0m\u001b[0mprobability\u001b[0m \u001b[0;32mimport\u001b[0m \u001b[0mFreqDist\u001b[0m\u001b[0;34m\u001b[0m\u001b[0m\n\u001b[1;32m      9\u001b[0m \u001b[0;32mimport\u001b[0m \u001b[0mpandas\u001b[0m \u001b[0;32mas\u001b[0m \u001b[0mpd\u001b[0m\u001b[0;34m\u001b[0m\u001b[0m\n",
      "\u001b[0;31mModuleNotFoundError\u001b[0m: No module named 'nltk.tokenize.moses'"
     ]
    }
   ],
   "source": [
    "# NLTK library: http://www.nltk.org/api/nltk.html\n",
    "# note: nltk was throwing a runtime error on my machine until I ran the following commands in a local terminal: \n",
    "# import nltk\n",
    "# nltk.download('punkt')\n",
    "\n",
    "from nltk.tokenize import word_tokenize\n",
    "from nltk.tokenize.moses import MosesTokenizer\n",
    "from nltk.probability import FreqDist\n",
    "import pandas as pd"
   ]
  },
  {
   "cell_type": "code",
   "execution_count": 2,
   "metadata": {
    "scrolled": true
   },
   "outputs": [
    {
     "data": {
      "text/plain": [
       "FreqDist({'exemple': 2, 'de': 2, \"c'est\": 1, 'un': 1, 'phrase': 1, ',': 1, 'le': 1, 'mot': 1, 'vais': 1, 'apparaître': 1, ...})"
      ]
     },
     "execution_count": 2,
     "metadata": {},
     "output_type": "execute_result"
    }
   ],
   "source": [
    "# Simple example: take a string, tokenize into a list of words, return a map of word -> frequency. \n",
    "sample = \"C'est un exemple de phrase, le mot exemple vais apparaître deux fois dans la distribution de fréquence\"\n",
    "fdist = FreqDist()\n",
    "for word in word_tokenize(sample):\n",
    "    fdist[word.lower()] += 1\n",
    "fdist"
   ]
  },
  {
   "cell_type": "code",
   "execution_count": 3,
   "metadata": {
    "scrolled": true
   },
   "outputs": [
    {
     "ename": "NameError",
     "evalue": "name 'fdist_claudine' is not defined",
     "output_type": "error",
     "traceback": [
      "\u001b[0;31m---------------------------------------------------------------------------\u001b[0m",
      "\u001b[0;31mNameError\u001b[0m                                 Traceback (most recent call last)",
      "\u001b[0;32m<ipython-input-3-d9c8e37c8ecc>\u001b[0m in \u001b[0;36m<module>\u001b[0;34m()\u001b[0m\n\u001b[1;32m      1\u001b[0m \u001b[0;31m# Simple test: can we get the same number of results as Brunet?\u001b[0m\u001b[0;34m\u001b[0m\u001b[0;34m\u001b[0m\u001b[0m\n\u001b[1;32m      2\u001b[0m \u001b[0;34m\u001b[0m\u001b[0m\n\u001b[0;32m----> 3\u001b[0;31m \u001b[0mprint\u001b[0m\u001b[0;34m(\u001b[0m\u001b[0mfdist_claudine\u001b[0m\u001b[0;34m[\u001b[0m\u001b[0;34m\"oiseau\"\u001b[0m\u001b[0;34m]\u001b[0m\u001b[0;34m)\u001b[0m \u001b[0;31m# only one occurence; of course, there is morphology to consider\u001b[0m\u001b[0;34m\u001b[0m\u001b[0m\n\u001b[0m\u001b[1;32m      4\u001b[0m \u001b[0mprint\u001b[0m\u001b[0;34m(\u001b[0m\u001b[0mfdist_claudine\u001b[0m\u001b[0;34m[\u001b[0m\u001b[0;34m\"d'oiseau\"\u001b[0m\u001b[0;34m]\u001b[0m\u001b[0;34m)\u001b[0m\u001b[0;34m\u001b[0m\u001b[0m\n\u001b[1;32m      5\u001b[0m \u001b[0mprint\u001b[0m\u001b[0;34m(\u001b[0m\u001b[0mfdist_claudine\u001b[0m\u001b[0;34m[\u001b[0m\u001b[0;34m\"oiseaux\"\u001b[0m\u001b[0;34m]\u001b[0m\u001b[0;34m)\u001b[0m \u001b[0;31m# only 6/11 have been found (see pg. 306 of Brunet)\u001b[0m\u001b[0;34m\u001b[0m\u001b[0m\n",
      "\u001b[0;31mNameError\u001b[0m: name 'fdist_claudine' is not defined"
     ]
    }
   ],
   "source": []
  },
  {
   "cell_type": "code",
   "execution_count": 4,
   "metadata": {},
   "outputs": [
    {
     "name": "stdout",
     "output_type": "stream",
     "text": [
      "0\n",
      "0\n",
      "0\n",
      "4\n",
      "0\n",
      "0\n",
      "0\n",
      "0\n",
      "6\n",
      "3\n",
      "1\n",
      "2\n",
      "0\n",
      "2\n",
      "0\n",
      "0\n",
      "0\n",
      "0\n",
      "0\n",
      "0\n",
      "0\n",
      "0\n",
      "1\n",
      "1\n",
      "3\n",
      "1\n",
      "1\n",
      "1\n",
      "2\n",
      "1\n",
      "1\n",
      "0\n",
      "0\n",
      "0\n",
      "2\n",
      "1\n",
      "0\n",
      "0\n",
      "0\n",
      "0\n",
      "0\n",
      "2\n",
      "2\n",
      "0\n",
      "0\n",
      "0\n",
      "1\n"
     ]
    }
   ],
   "source": [
    "# Read CLaudine text\n",
    "with open(\"../texts/txt/1902-Colette-Claudine a l’École.txt\", \"r\") as myfile:\n",
    "    data=myfile.read().replace(\"\\n\", \"\")\n",
    "fdist_claudine = FreqDist()\n",
    "\n",
    "# try Moses tokenizer (better french support)\n",
    "\n",
    "moses = MosesTokenizer(lang='fr')\n",
    "\n",
    "for word in moses.tokenize(data):\n",
    "    fdist_claudine[word.lower()] += 1\n",
    "\n",
    "# All of the rows of Table 2\n",
    "bestiaire = [\"abeille\", \"aigle\", \"âne\", \"animal\", \"araignée\", \"boeuf\", \n",
    "             \"canard\", \"cerf\", \"chat\", \"cheval\", \"chèvre\", \"chien\", \n",
    "             \"chouette\", \"cochon\", \"coq\", \"cygne\", \"dragon\", \"écureuil\",\n",
    "             \"éléphant\", \"fourmi\", \"gibier\", \"insecte\", \"lapin\", \"lièvre\",\n",
    "             \"loup\", \"moineau\", \"mouche\", \"mouton\", \"oie\", \"oiseau\", \"ours\", \n",
    "             \"papillon\", \"perroquet\", \"pigeon\", \"poisson\", \"poule\", \"poulet\",\n",
    "             \"rat\", \"renard\", \"rossignol\", \"serpent\", \"singe\", \"souris\", \n",
    "             \"tigre\", \"truite\", \"vache\", \"veau\"]\n",
    "\n",
    "for animal in bestiaire:\n",
    "    print(fdist_claudine[animal])"
   ]
  }
 ],
 "metadata": {
  "kernelspec": {
   "display_name": "Python 3",
   "language": "python",
   "name": "python3"
  },
  "language_info": {
   "codemirror_mode": {
    "name": "ipython",
    "version": 3
   },
   "file_extension": ".py",
   "mimetype": "text/x-python",
   "name": "python",
   "nbconvert_exporter": "python",
   "pygments_lexer": "ipython3",
   "version": "3.6.6"
  }
 },
 "nbformat": 4,
 "nbformat_minor": 2
}
